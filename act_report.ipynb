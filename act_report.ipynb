{
 "cells": [
  {
   "cell_type": "markdown",
   "metadata": {},
   "source": [
    "## Report: act_report\n",
    "* Create a **250-word-minimum written report** called \"act_report.pdf\" or \"act_report.html\" that communicates the insights and displays the visualization(s) produced from your wrangled data. This is to be framed as an external document, like a blog post or magazine article, for example."
   ]
  },
  {
   "cell_type": "markdown",
   "metadata": {},
   "source": [
    "### Act_report"
   ]
  },
  {
   "cell_type": "markdown",
   "metadata": {},
   "source": [
    "A recent data analysis was done on a tweeter archive dataset from WeRateDogs that had tweeter users rate their dogs using their unique rating system. The final data that was used to put this report together was from 1750 tweeter users and the following insights were made.\n",
    "\n",
    " A total of 113 dog breeds was detected by the nural network used to classify these dogs of the 113 breeds the Golden retriever was the most common with 173 users owning this breed. The next most owned breed was the Labrador retriever with an ownership of 113. Coming in third was shortest,meanest and cutest breed of them all the Chihuahua which was tied for third with the Pembroke, having 95 users owning these breeds. Rounding up the top five was the Pug being owned by 65 of the 1750 users.\n",
    "\n",
    "\n",
    "The most retweeted dog tweet  came from user https://twitter.com/dog_rates/status/744234799360020481, who owned a Labrador retriever unfortunately no name was provided for this dog that people were so happy share about. \n",
    "\n",
    "The dog that received the most likes also did not have a name however a picture of the cutey pie was made available:\n",
    "\n",
    "\n",
    "\n",
    "\n",
    "\n",
    "\n",
    "\n",
    "\n",
    "\n",
    "\n",
    "\n",
    "\n",
    "\n",
    "\n",
    "\n",
    "\n",
    "\n",
    "Our nural network predicted this to be Lakeland Terrier but dog enthusiasts will shout otherwise because this is infact a Labrador retriever, the machine is not always right. This is what the owner had to say on the day “Here's a super supportive puppo participating in the Toronto  #WomensMarch today”.\n",
    "\n",
    "Where they are good dogs there are also bad dogs, we took a loot at some of the lowest rated breed of dogs and this was the result:\n",
    "\n",
    "The japanese spaniel was the lowest rated, followed by a scotch terrier. These dogs are still good dogs don’t let one bad dog deter you from getting a japanese spaniel or a scotch terrier\n"
   ]
  }
 ],
 "metadata": {
  "kernelspec": {
   "display_name": "Python 3",
   "language": "python",
   "name": "python3"
  },
  "language_info": {
   "codemirror_mode": {
    "name": "ipython",
    "version": 3
   },
   "file_extension": ".py",
   "mimetype": "text/x-python",
   "name": "python",
   "nbconvert_exporter": "python",
   "pygments_lexer": "ipython3",
   "version": "3.6.3"
  }
 },
 "nbformat": 4,
 "nbformat_minor": 2
}
